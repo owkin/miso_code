{
 "cells": [
  {
   "cell_type": "code",
   "execution_count": null,
   "id": "da7bb01e",
   "metadata": {},
   "outputs": [],
   "source": [
    "%load_ext autoreload\n",
    "%autoreload 2"
   ]
  },
  {
   "cell_type": "code",
   "execution_count": null,
   "id": "fab02eae",
   "metadata": {},
   "outputs": [],
   "source": [
    "import openslide\n",
    "from openslide.deepzoom import DeepZoomGenerator\n",
    "\n",
    "from PIL import Image\n",
    "\n",
    "import matplotlib.pyplot as plt\n",
    "\n",
    "import pandas as pd\n",
    "\n",
    "import torch\n",
    "from torch.utils.data import DataLoader, Subset\n",
    "\n",
    "from pathlib import Path\n",
    "\n",
    "import numpy as np\n",
    "\n",
    "from miso.data.loading import DatasetSlideSubsample\n",
    "from miso.models import SimpleMIL\n",
    "\n",
    "from scipy.stats import pearsonr, spearmanr\n",
    "\n",
    "from tqdm.notebook import tqdm\n",
    "\n",
    "import pickle as pkl"
   ]
  },
  {
   "cell_type": "code",
   "execution_count": null,
   "id": "e05e5c04",
   "metadata": {},
   "outputs": [],
   "source": [
    "# Fill LOCAL_PATH with the path containing the miso repo and PATH_TO_DATA with the path containing Her2ST data\n",
    "LOCAL_PATH = Path('')\n",
    "PATH_TO_DATA = Path('')"
   ]
  },
  {
   "cell_type": "markdown",
   "id": "9fed8433",
   "metadata": {},
   "source": [
    "# Load models"
   ]
  },
  {
   "cell_type": "code",
   "execution_count": null,
   "id": "b87d7559",
   "metadata": {},
   "outputs": [],
   "source": [
    "genes = pd.read_csv(\n",
    "    LOCAL_PATH / 'miso/assets/outputs_distil/miso_sr_her2st/metrics.csv'\n",
    ")['gene'].values"
   ]
  },
  {
   "cell_type": "code",
   "execution_count": null,
   "id": "f4e1ee9e",
   "metadata": {},
   "outputs": [],
   "source": [
    "models = []\n",
    "for i in range(4):\n",
    "    model =  SimpleMIL(\n",
    "        input_dim=768,\n",
    "        output_dim=len(genes),\n",
    "        hidden=[1024, 512],\n",
    "        activation=torch.nn.ReLU(),\n",
    "        agg_method='mean',\n",
    "        device='cuda'\n",
    "    )\n",
    "\n",
    "    model.load_state_dict(\n",
    "        torch.load(\n",
    "            LOCAL_PATH / f'miso/assets/outputs_distil/miso_sr_her2st/repeat_0_fold_{i}/model.pth',\n",
    "            map_location='cpu'\n",
    "        )\n",
    "    )\n",
    "    models.append(model)"
   ]
  },
  {
   "cell_type": "markdown",
   "id": "a2a445f1",
   "metadata": {},
   "source": [
    "# Load data"
   ]
  },
  {
   "cell_type": "code",
   "execution_count": null,
   "id": "ed25f6d4",
   "metadata": {},
   "outputs": [],
   "source": [
    "dataset = DatasetSlideSubsample(\n",
    "    path_to_feats=PATH_TO_DATA / 'processed_data',\n",
    "    path_to_counts=PATH_TO_DATA / 'processed_data',\n",
    "    path_to_gene_list=LOCAL_PATH / 'miso/assets/genes_her2st_all.csv',\n",
    "    normalization='raw_reads'\n",
    ")"
   ]
  },
  {
   "cell_type": "code",
   "execution_count": null,
   "id": "e029f4ed",
   "metadata": {},
   "outputs": [],
   "source": [
    "split_ids = pkl.load(open(LOCAL_PATH / 'miso/assets/splits_benchmark_her2st.pkl', 'rb'))"
   ]
  },
  {
   "cell_type": "markdown",
   "id": "97c088e7",
   "metadata": {},
   "source": [
    "# Run inference on a sample"
   ]
  },
  {
   "cell_type": "code",
   "execution_count": null,
   "id": "900d6241",
   "metadata": {},
   "outputs": [],
   "source": [
    "n = 2  # fold index\n",
    "i = 6  # sample index within the test fold\n",
    "\n",
    "model = models[n]\n",
    "\n",
    "test_id = split_ids[n][2][i]\n",
    "sample_set = Subset(dataset, np.arange(len(dataset))[(pd.Series(dataset.slide_names) == test_id).values])"
   ]
  },
  {
   "cell_type": "code",
   "execution_count": null,
   "id": "4889d188",
   "metadata": {},
   "outputs": [],
   "source": [
    "dataloader = DataLoader(sample_set, 128, shuffle=False)\n",
    "\n",
    "pred = []\n",
    "label = []\n",
    "coords_patches = []\n",
    "for data in tqdm(dataloader):\n",
    "    x = data['features'].float().cuda()\n",
    "    c = data['coords'][..., 1:]\n",
    "    l = data['labels'][..., 1:]\n",
    "    with torch.no_grad():\n",
    "        p = model.mlp(x.cuda()).cpu().numpy()\n",
    "    pred.append(p)\n",
    "    coords_patches.append(c)\n",
    "    label.append(l)\n",
    "pred = np.concatenate(pred)\n",
    "label = np.concatenate(label)\n",
    "coords_patches = np.concatenate(coords_patches)"
   ]
  },
  {
   "cell_type": "code",
   "execution_count": null,
   "id": "ac80fe27",
   "metadata": {},
   "outputs": [],
   "source": [
    "img = np.array(Image.open(PATH_TO_DATA / f'images/HE/{test_id}.jpg'))"
   ]
  },
  {
   "cell_type": "code",
   "execution_count": null,
   "id": "6fb665d6",
   "metadata": {},
   "outputs": [],
   "source": [
    "# Pick a gene and check performance\n",
    "\n",
    "gene = 'CD3D'\n",
    "gene_idx = np.arange(len(genes))[genes == gene][0]\n",
    "pearsonr(tile_level_preds[:, gene_idx], label[:, gene_idx])"
   ]
  },
  {
   "cell_type": "markdown",
   "id": "8cf27b81",
   "metadata": {},
   "source": [
    "# Slide-level visualisation (no super-resolution)"
   ]
  },
  {
   "cell_type": "code",
   "execution_count": null,
   "id": "0e877c97",
   "metadata": {},
   "outputs": [],
   "source": [
    "tile_level_preds = np.mean(pred, axis=1)\n",
    "tile_coords = np.min(coords_patches, axis=1)"
   ]
  },
  {
   "cell_type": "code",
   "execution_count": null,
   "id": "408626f7",
   "metadata": {},
   "outputs": [],
   "source": [
    "p = tile_level_preds[:, gene_idx]\n",
    "p = (p - np.min(p)) / (np.max(p) - np.min(p))\n",
    "c = plt.cm.inferno(p)\n",
    "\n",
    "fig, ax = plt.subplots(1, 1)\n",
    "fig.set_size_inches(12, 8)\n",
    "ax.imshow(img)\n",
    "ax.set_xticks([])\n",
    "ax.set_yticks([])\n",
    "ax.scatter(tile_coords[:, 1], tile_coords[:, 0], marker='o', c=c, s=50, alpha=0.7)\n",
    "plt.show()"
   ]
  },
  {
   "cell_type": "markdown",
   "id": "f94c7e6b",
   "metadata": {},
   "source": [
    "# Patch-level visualisation"
   ]
  },
  {
   "cell_type": "code",
   "execution_count": null,
   "id": "b96e358b",
   "metadata": {},
   "outputs": [],
   "source": [
    "n = np.argsort(tile_level_preds[:, gene_idx])[-50]"
   ]
  },
  {
   "cell_type": "code",
   "execution_count": null,
   "id": "450f346e",
   "metadata": {},
   "outputs": [],
   "source": [
    "img_tile = img[\n",
    "    int(tile_coords[n, 0]-112):int(tile_coords[n, 0]+112),\n",
    "    int(tile_coords[n, 1]-112):int(tile_coords[n, 1]+112)\n",
    "]"
   ]
  },
  {
   "cell_type": "code",
   "execution_count": null,
   "id": "d114cdf8",
   "metadata": {},
   "outputs": [],
   "source": [
    "fig, (ax0, ax1) = plt.subplots(1, 2)\n",
    "fig.set_size_inches(10, 5)\n",
    "\n",
    "ax0.imshow(img_tile)\n",
    "ax0.set_xticks([])\n",
    "ax0.set_yticks([])\n",
    "\n",
    "ax1.imshow(img_tile)\n",
    "pred_patch = pred[n]\n",
    "coords_patch = coords_patches[n] - tile_coords[n] + 7\n",
    "\n",
    "p = pred_patch[:, gene_idx]\n",
    "p = (p - np.min(p)) / (np.max(p) - np.min(p))\n",
    "c = plt.cm.inferno(p)\n",
    "\n",
    "ax1.scatter(coords_patch[:, 1], coords_patch[:, 0], marker='o', c=c, s=100, alpha=0.7)\n",
    "ax1.set_xticks([])\n",
    "ax1.set_yticks([])\n",
    "plt.show()"
   ]
  },
  {
   "cell_type": "code",
   "execution_count": null,
   "id": "ec1f65e7",
   "metadata": {},
   "outputs": [],
   "source": []
  }
 ],
 "metadata": {
  "kernelspec": {
   "display_name": "miso_env",
   "language": "python",
   "name": "miso_env"
  },
  "language_info": {
   "codemirror_mode": {
    "name": "ipython",
    "version": 3
   },
   "file_extension": ".py",
   "mimetype": "text/x-python",
   "name": "python",
   "nbconvert_exporter": "python",
   "pygments_lexer": "ipython3",
   "version": "3.9.19"
  }
 },
 "nbformat": 4,
 "nbformat_minor": 5
}
